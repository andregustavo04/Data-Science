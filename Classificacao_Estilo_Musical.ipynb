{
  "nbformat": 4,
  "nbformat_minor": 0,
  "metadata": {
    "colab": {
      "provenance": [],
      "mount_file_id": "1rxiggUZJlwJSG-xwSb0ICMHymz9vW2f2",
      "authorship_tag": "ABX9TyM4aiioj3fiixuUqDjHr8fa",
      "include_colab_link": true
    },
    "kernelspec": {
      "name": "python3",
      "display_name": "Python 3"
    },
    "language_info": {
      "name": "python"
    }
  },
  "cells": [
    {
      "cell_type": "markdown",
      "metadata": {
        "id": "view-in-github",
        "colab_type": "text"
      },
      "source": [
        "<a href=\"https://colab.research.google.com/github/andregustavo04/Data-Science/blob/main/Classificacao_Estilo_Musical.ipynb\" target=\"_parent\"><img src=\"https://colab.research.google.com/assets/colab-badge.svg\" alt=\"Open In Colab\"/></a>"
      ]
    },
    {
      "cell_type": "markdown",
      "source": [
        "# 1. Machine Learning e Estilos Musicais\n",
        "\n",
        "\n",
        "A imagem abaixo foi gerada por uma inteligência artificial a partir de alguns simples comandos descritivos. A capacidade abstrativa que um computador consegue atingir é algo incrível, principalemtne quando se trata da arte. Contudo, se uma IA é capaz de gerar algo tão complexo a partir de simples comandos, o que mais ela consegue fazer?\n",
        "<br>\n",
        "\n",
        "<img src=\"https://cdn.midjourney.com/c17694af-ab1d-4e2b-9471-865a00d92526/grid_0.png\" height=500px>\n",
        "\n",
        "\n",
        "<br>\n",
        "<br>\n",
        "\n",
        "Com o imenso poder demonstrado pelas inteligências artificiais nos dias de hoje, é possível perceber que a aplicabilidade de IA não tem limite - podemos aplicar IA em qualquer cenário ou segmento de maneira a nos ajudar a alcançar melhores resultados, de maneira mais eficiente. [Uma recente pesquisa realizada pela IBM](https://exame.com/esferabrasil/pesquisa-mostra-que-41-das-empresas-brasileiras-ja-utilizam-inteligencia-artificial/) apontou que aproximadamente 41% das empresas brasileiras já utilizam inteligência artifical (IA) em suas operações, o que nos leva a pensar que as IA's estão sendo utilizadas massivamente para diferentes tipos de funções.  \n",
        "\n",
        "\n",
        "Sendo assim, para explorar a imensa aplicabilidade da IA, por que não criamos algo um tanto quanto diferente? Vamos criar um modelo de machine learning (IA) para fazer a classificação do estilo musical de uma música. O desafio de hoje é construir um modelo de machine learning para classificar as músicas em Rock ou Hip-Hop, a partir de algumas das características dessas músicas, tais como título, gravadora, duração etc.\n",
        "\n",
        "Para isso, vamos olhar para os dados já conhecidos de algumas músicas, para podermos treinar nosso modelo e torná-lo capaz de fazer novas previsões a partir de dados de músicas nunca vistas por ele antes. Este é um típico problema de Aprendizado Supervisionado.\n",
        "\n",
        "<br>\n",
        "\n",
        "\n",
        "\n",
        "\n",
        "## Objetivo\n",
        ">Classificar os estilos das músicas em Rock ou Hip-Hop.\n",
        "\n",
        "## Métrica de Performance\n",
        ">Para avaliar a performance do nosso modelo, utilizaremos as métricas \"Acurácia\" e \"F1 Score\".\n",
        "\n",
        "\n",
        "\n",
        "\n"
      ],
      "metadata": {
        "id": "ZqlKvM_6rNXV"
      }
    },
    {
      "cell_type": "markdown",
      "source": [
        "#2. Importando os Dados"
      ],
      "metadata": {
        "id": "XRfoUK4as0IM"
      }
    },
    {
      "cell_type": "markdown",
      "source": [
        "Os dados utilizados para este modelo estão disponíveis no Kaggle (https://www.kaggle.com) para download. Utilizaremos dois datasets:\n",
        "\n",
        "* **Dataset 1:** [Dataset 1](https://www.kaggle.com/datasets/efstathiasdrolia/fmarockvshiphop) (arquivo csv)\n",
        "* **Dataset 2:** [Dataset 2](https://www.kaggle.com/datasets/efstathiasdrolia/echonestmetrics) (arquivo json)"
      ],
      "metadata": {
        "id": "05uhNolHpLGE"
      }
    },
    {
      "cell_type": "markdown",
      "source": [
        "Antes de tudo, vamos importar as bibliotecas que utilizaremos a priori para fazer a análise dos dados."
      ],
      "metadata": {
        "id": "Ss-8BmD7IJc9"
      }
    },
    {
      "cell_type": "code",
      "execution_count": null,
      "metadata": {
        "id": "JLnCWX3erHp_"
      },
      "outputs": [],
      "source": [
        "import seaborn as sns\n",
        "import pandas as pd\n",
        "import matplotlib.pyplot as plt\n",
        "import numpy as np\n",
        "\n",
        "%matplotlib inline"
      ]
    },
    {
      "cell_type": "markdown",
      "source": [
        "Vamos carregar os dados dos arquivos para estruturas chamadas de DataFrame, da biblioteca Pandas."
      ],
      "metadata": {
        "id": "KndXrbjgIlqo"
      }
    },
    {
      "cell_type": "code",
      "source": [
        "df_tracks = pd.read_csv('/content/drive/MyDrive/00 - Modelos de ML e Análises/ML - CLASSIFICAÇÃO DE ESTILO MUSICAL/fma-rock-vs-hiphop.csv')\n",
        "df_echo = pd.read_json('/content/drive/MyDrive/00 - Modelos de ML e Análises/ML - CLASSIFICAÇÃO DE ESTILO MUSICAL/echonest-metrics.json')"
      ],
      "metadata": {
        "id": "4JiFEKAwtWJb"
      },
      "execution_count": null,
      "outputs": []
    },
    {
      "cell_type": "markdown",
      "source": [
        "Para começar a entender como nossos dados são, vamos olhar as primeiras linhas de cada DataFrame, por meio do método `head()`."
      ],
      "metadata": {
        "id": "N4LlzC75I8eI"
      }
    },
    {
      "cell_type": "code",
      "source": [
        "df_tracks.head()"
      ],
      "metadata": {
        "colab": {
          "base_uri": "https://localhost:8080/",
          "height": 577
        },
        "id": "PyvZnhL3t5lU",
        "outputId": "3b685627-6593-4539-d918-accdc4bf50e7"
      },
      "execution_count": null,
      "outputs": [
        {
          "output_type": "execute_result",
          "data": {
            "text/plain": [
              "   track_id  bit_rate  comments        composer         date_created  \\\n",
              "0       135    256000         1             NaN  2008-11-26 01:43:26   \n",
              "1       136    256000         1             NaN  2008-11-26 01:43:35   \n",
              "2       151    192000         0             NaN  2008-11-26 01:44:55   \n",
              "3       152    192000         0             NaN  2008-11-26 01:44:58   \n",
              "4       153    256000         0  Arc and Sender  2008-11-26 01:45:00   \n",
              "\n",
              "         date_recorded  duration  favorites genre_top    genres  ...  \\\n",
              "0  2008-11-26 00:00:00       837          0      Rock  [45, 58]  ...   \n",
              "1  2008-11-26 00:00:00       509          0      Rock  [45, 58]  ...   \n",
              "2                  NaN       192          0      Rock      [25]  ...   \n",
              "3                  NaN       193          0      Rock      [25]  ...   \n",
              "4  2008-11-26 00:00:00       405          5      Rock      [26]  ...   \n",
              "\n",
              "  information interest  language_code  \\\n",
              "0         NaN     2484             en   \n",
              "1         NaN     1948             en   \n",
              "2         NaN      701             en   \n",
              "3         NaN      637             en   \n",
              "4         NaN      354             en   \n",
              "\n",
              "                                             license listens  lyricist number  \\\n",
              "0  Attribution-NonCommercial-ShareAlike 3.0 Inter...    1832       NaN      0   \n",
              "1  Attribution-NonCommercial-ShareAlike 3.0 Inter...    1498       NaN      0   \n",
              "2  Attribution-NonCommercial-ShareAlike 3.0 Inter...     148       NaN      4   \n",
              "3  Attribution-NonCommercial-ShareAlike 3.0 Inter...      98       NaN     11   \n",
              "4  Attribution-NonCommercial-NoDerivatives (aka M...     424       NaN      2   \n",
              "\n",
              "   publisher tags                       title  \n",
              "0        NaN   []                Father's Day  \n",
              "1        NaN   []  Peel Back The Mountain Sky  \n",
              "2        NaN   []                 Untitled 04  \n",
              "3        NaN   []                 Untitled 11  \n",
              "4        NaN   []          Hundred-Year Flood  \n",
              "\n",
              "[5 rows x 21 columns]"
            ],
            "text/html": [
              "\n",
              "  <div id=\"df-1d2df5b8-decd-41cf-b712-e43027249033\">\n",
              "    <div class=\"colab-df-container\">\n",
              "      <div>\n",
              "<style scoped>\n",
              "    .dataframe tbody tr th:only-of-type {\n",
              "        vertical-align: middle;\n",
              "    }\n",
              "\n",
              "    .dataframe tbody tr th {\n",
              "        vertical-align: top;\n",
              "    }\n",
              "\n",
              "    .dataframe thead th {\n",
              "        text-align: right;\n",
              "    }\n",
              "</style>\n",
              "<table border=\"1\" class=\"dataframe\">\n",
              "  <thead>\n",
              "    <tr style=\"text-align: right;\">\n",
              "      <th></th>\n",
              "      <th>track_id</th>\n",
              "      <th>bit_rate</th>\n",
              "      <th>comments</th>\n",
              "      <th>composer</th>\n",
              "      <th>date_created</th>\n",
              "      <th>date_recorded</th>\n",
              "      <th>duration</th>\n",
              "      <th>favorites</th>\n",
              "      <th>genre_top</th>\n",
              "      <th>genres</th>\n",
              "      <th>...</th>\n",
              "      <th>information</th>\n",
              "      <th>interest</th>\n",
              "      <th>language_code</th>\n",
              "      <th>license</th>\n",
              "      <th>listens</th>\n",
              "      <th>lyricist</th>\n",
              "      <th>number</th>\n",
              "      <th>publisher</th>\n",
              "      <th>tags</th>\n",
              "      <th>title</th>\n",
              "    </tr>\n",
              "  </thead>\n",
              "  <tbody>\n",
              "    <tr>\n",
              "      <th>0</th>\n",
              "      <td>135</td>\n",
              "      <td>256000</td>\n",
              "      <td>1</td>\n",
              "      <td>NaN</td>\n",
              "      <td>2008-11-26 01:43:26</td>\n",
              "      <td>2008-11-26 00:00:00</td>\n",
              "      <td>837</td>\n",
              "      <td>0</td>\n",
              "      <td>Rock</td>\n",
              "      <td>[45, 58]</td>\n",
              "      <td>...</td>\n",
              "      <td>NaN</td>\n",
              "      <td>2484</td>\n",
              "      <td>en</td>\n",
              "      <td>Attribution-NonCommercial-ShareAlike 3.0 Inter...</td>\n",
              "      <td>1832</td>\n",
              "      <td>NaN</td>\n",
              "      <td>0</td>\n",
              "      <td>NaN</td>\n",
              "      <td>[]</td>\n",
              "      <td>Father's Day</td>\n",
              "    </tr>\n",
              "    <tr>\n",
              "      <th>1</th>\n",
              "      <td>136</td>\n",
              "      <td>256000</td>\n",
              "      <td>1</td>\n",
              "      <td>NaN</td>\n",
              "      <td>2008-11-26 01:43:35</td>\n",
              "      <td>2008-11-26 00:00:00</td>\n",
              "      <td>509</td>\n",
              "      <td>0</td>\n",
              "      <td>Rock</td>\n",
              "      <td>[45, 58]</td>\n",
              "      <td>...</td>\n",
              "      <td>NaN</td>\n",
              "      <td>1948</td>\n",
              "      <td>en</td>\n",
              "      <td>Attribution-NonCommercial-ShareAlike 3.0 Inter...</td>\n",
              "      <td>1498</td>\n",
              "      <td>NaN</td>\n",
              "      <td>0</td>\n",
              "      <td>NaN</td>\n",
              "      <td>[]</td>\n",
              "      <td>Peel Back The Mountain Sky</td>\n",
              "    </tr>\n",
              "    <tr>\n",
              "      <th>2</th>\n",
              "      <td>151</td>\n",
              "      <td>192000</td>\n",
              "      <td>0</td>\n",
              "      <td>NaN</td>\n",
              "      <td>2008-11-26 01:44:55</td>\n",
              "      <td>NaN</td>\n",
              "      <td>192</td>\n",
              "      <td>0</td>\n",
              "      <td>Rock</td>\n",
              "      <td>[25]</td>\n",
              "      <td>...</td>\n",
              "      <td>NaN</td>\n",
              "      <td>701</td>\n",
              "      <td>en</td>\n",
              "      <td>Attribution-NonCommercial-ShareAlike 3.0 Inter...</td>\n",
              "      <td>148</td>\n",
              "      <td>NaN</td>\n",
              "      <td>4</td>\n",
              "      <td>NaN</td>\n",
              "      <td>[]</td>\n",
              "      <td>Untitled 04</td>\n",
              "    </tr>\n",
              "    <tr>\n",
              "      <th>3</th>\n",
              "      <td>152</td>\n",
              "      <td>192000</td>\n",
              "      <td>0</td>\n",
              "      <td>NaN</td>\n",
              "      <td>2008-11-26 01:44:58</td>\n",
              "      <td>NaN</td>\n",
              "      <td>193</td>\n",
              "      <td>0</td>\n",
              "      <td>Rock</td>\n",
              "      <td>[25]</td>\n",
              "      <td>...</td>\n",
              "      <td>NaN</td>\n",
              "      <td>637</td>\n",
              "      <td>en</td>\n",
              "      <td>Attribution-NonCommercial-ShareAlike 3.0 Inter...</td>\n",
              "      <td>98</td>\n",
              "      <td>NaN</td>\n",
              "      <td>11</td>\n",
              "      <td>NaN</td>\n",
              "      <td>[]</td>\n",
              "      <td>Untitled 11</td>\n",
              "    </tr>\n",
              "    <tr>\n",
              "      <th>4</th>\n",
              "      <td>153</td>\n",
              "      <td>256000</td>\n",
              "      <td>0</td>\n",
              "      <td>Arc and Sender</td>\n",
              "      <td>2008-11-26 01:45:00</td>\n",
              "      <td>2008-11-26 00:00:00</td>\n",
              "      <td>405</td>\n",
              "      <td>5</td>\n",
              "      <td>Rock</td>\n",
              "      <td>[26]</td>\n",
              "      <td>...</td>\n",
              "      <td>NaN</td>\n",
              "      <td>354</td>\n",
              "      <td>en</td>\n",
              "      <td>Attribution-NonCommercial-NoDerivatives (aka M...</td>\n",
              "      <td>424</td>\n",
              "      <td>NaN</td>\n",
              "      <td>2</td>\n",
              "      <td>NaN</td>\n",
              "      <td>[]</td>\n",
              "      <td>Hundred-Year Flood</td>\n",
              "    </tr>\n",
              "  </tbody>\n",
              "</table>\n",
              "<p>5 rows × 21 columns</p>\n",
              "</div>\n",
              "      <button class=\"colab-df-convert\" onclick=\"convertToInteractive('df-1d2df5b8-decd-41cf-b712-e43027249033')\"\n",
              "              title=\"Convert this dataframe to an interactive table.\"\n",
              "              style=\"display:none;\">\n",
              "        \n",
              "  <svg xmlns=\"http://www.w3.org/2000/svg\" height=\"24px\"viewBox=\"0 0 24 24\"\n",
              "       width=\"24px\">\n",
              "    <path d=\"M0 0h24v24H0V0z\" fill=\"none\"/>\n",
              "    <path d=\"M18.56 5.44l.94 2.06.94-2.06 2.06-.94-2.06-.94-.94-2.06-.94 2.06-2.06.94zm-11 1L8.5 8.5l.94-2.06 2.06-.94-2.06-.94L8.5 2.5l-.94 2.06-2.06.94zm10 10l.94 2.06.94-2.06 2.06-.94-2.06-.94-.94-2.06-.94 2.06-2.06.94z\"/><path d=\"M17.41 7.96l-1.37-1.37c-.4-.4-.92-.59-1.43-.59-.52 0-1.04.2-1.43.59L10.3 9.45l-7.72 7.72c-.78.78-.78 2.05 0 2.83L4 21.41c.39.39.9.59 1.41.59.51 0 1.02-.2 1.41-.59l7.78-7.78 2.81-2.81c.8-.78.8-2.07 0-2.86zM5.41 20L4 18.59l7.72-7.72 1.47 1.35L5.41 20z\"/>\n",
              "  </svg>\n",
              "      </button>\n",
              "      \n",
              "  <style>\n",
              "    .colab-df-container {\n",
              "      display:flex;\n",
              "      flex-wrap:wrap;\n",
              "      gap: 12px;\n",
              "    }\n",
              "\n",
              "    .colab-df-convert {\n",
              "      background-color: #E8F0FE;\n",
              "      border: none;\n",
              "      border-radius: 50%;\n",
              "      cursor: pointer;\n",
              "      display: none;\n",
              "      fill: #1967D2;\n",
              "      height: 32px;\n",
              "      padding: 0 0 0 0;\n",
              "      width: 32px;\n",
              "    }\n",
              "\n",
              "    .colab-df-convert:hover {\n",
              "      background-color: #E2EBFA;\n",
              "      box-shadow: 0px 1px 2px rgba(60, 64, 67, 0.3), 0px 1px 3px 1px rgba(60, 64, 67, 0.15);\n",
              "      fill: #174EA6;\n",
              "    }\n",
              "\n",
              "    [theme=dark] .colab-df-convert {\n",
              "      background-color: #3B4455;\n",
              "      fill: #D2E3FC;\n",
              "    }\n",
              "\n",
              "    [theme=dark] .colab-df-convert:hover {\n",
              "      background-color: #434B5C;\n",
              "      box-shadow: 0px 1px 3px 1px rgba(0, 0, 0, 0.15);\n",
              "      filter: drop-shadow(0px 1px 2px rgba(0, 0, 0, 0.3));\n",
              "      fill: #FFFFFF;\n",
              "    }\n",
              "  </style>\n",
              "\n",
              "      <script>\n",
              "        const buttonEl =\n",
              "          document.querySelector('#df-1d2df5b8-decd-41cf-b712-e43027249033 button.colab-df-convert');\n",
              "        buttonEl.style.display =\n",
              "          google.colab.kernel.accessAllowed ? 'block' : 'none';\n",
              "\n",
              "        async function convertToInteractive(key) {\n",
              "          const element = document.querySelector('#df-1d2df5b8-decd-41cf-b712-e43027249033');\n",
              "          const dataTable =\n",
              "            await google.colab.kernel.invokeFunction('convertToInteractive',\n",
              "                                                     [key], {});\n",
              "          if (!dataTable) return;\n",
              "\n",
              "          const docLinkHtml = 'Like what you see? Visit the ' +\n",
              "            '<a target=\"_blank\" href=https://colab.research.google.com/notebooks/data_table.ipynb>data table notebook</a>'\n",
              "            + ' to learn more about interactive tables.';\n",
              "          element.innerHTML = '';\n",
              "          dataTable['output_type'] = 'display_data';\n",
              "          await google.colab.output.renderOutput(dataTable, element);\n",
              "          const docLink = document.createElement('div');\n",
              "          docLink.innerHTML = docLinkHtml;\n",
              "          element.appendChild(docLink);\n",
              "        }\n",
              "      </script>\n",
              "    </div>\n",
              "  </div>\n",
              "  "
            ]
          },
          "metadata": {},
          "execution_count": 3
        }
      ]
    },
    {
      "cell_type": "code",
      "source": [
        "df_echo.head()"
      ],
      "metadata": {
        "colab": {
          "base_uri": "https://localhost:8080/",
          "height": 206
        },
        "id": "gRgHy5qAuGPa",
        "outputId": "ce346312-b49d-4752-b665-cd964124e99c"
      },
      "execution_count": null,
      "outputs": [
        {
          "output_type": "execute_result",
          "data": {
            "text/plain": [
              "   track_id  acousticness  danceability    energy  instrumentalness  liveness  \\\n",
              "0         2      0.416675      0.675894  0.634476          0.010628  0.177647   \n",
              "1         3      0.374408      0.528643  0.817461          0.001851  0.105880   \n",
              "2         5      0.043567      0.745566  0.701470          0.000697  0.373143   \n",
              "3        10      0.951670      0.658179  0.924525          0.965427  0.115474   \n",
              "4       134      0.452217      0.513238  0.560410          0.019443  0.096567   \n",
              "\n",
              "   speechiness    tempo   valence  \n",
              "0     0.159310  165.922  0.576661  \n",
              "1     0.461818  126.957  0.269240  \n",
              "2     0.124595  100.260  0.621661  \n",
              "3     0.032985  111.562  0.963590  \n",
              "4     0.525519  114.290  0.894072  "
            ],
            "text/html": [
              "\n",
              "  <div id=\"df-c40a3c5d-d7b9-43da-9de8-68290673466d\">\n",
              "    <div class=\"colab-df-container\">\n",
              "      <div>\n",
              "<style scoped>\n",
              "    .dataframe tbody tr th:only-of-type {\n",
              "        vertical-align: middle;\n",
              "    }\n",
              "\n",
              "    .dataframe tbody tr th {\n",
              "        vertical-align: top;\n",
              "    }\n",
              "\n",
              "    .dataframe thead th {\n",
              "        text-align: right;\n",
              "    }\n",
              "</style>\n",
              "<table border=\"1\" class=\"dataframe\">\n",
              "  <thead>\n",
              "    <tr style=\"text-align: right;\">\n",
              "      <th></th>\n",
              "      <th>track_id</th>\n",
              "      <th>acousticness</th>\n",
              "      <th>danceability</th>\n",
              "      <th>energy</th>\n",
              "      <th>instrumentalness</th>\n",
              "      <th>liveness</th>\n",
              "      <th>speechiness</th>\n",
              "      <th>tempo</th>\n",
              "      <th>valence</th>\n",
              "    </tr>\n",
              "  </thead>\n",
              "  <tbody>\n",
              "    <tr>\n",
              "      <th>0</th>\n",
              "      <td>2</td>\n",
              "      <td>0.416675</td>\n",
              "      <td>0.675894</td>\n",
              "      <td>0.634476</td>\n",
              "      <td>0.010628</td>\n",
              "      <td>0.177647</td>\n",
              "      <td>0.159310</td>\n",
              "      <td>165.922</td>\n",
              "      <td>0.576661</td>\n",
              "    </tr>\n",
              "    <tr>\n",
              "      <th>1</th>\n",
              "      <td>3</td>\n",
              "      <td>0.374408</td>\n",
              "      <td>0.528643</td>\n",
              "      <td>0.817461</td>\n",
              "      <td>0.001851</td>\n",
              "      <td>0.105880</td>\n",
              "      <td>0.461818</td>\n",
              "      <td>126.957</td>\n",
              "      <td>0.269240</td>\n",
              "    </tr>\n",
              "    <tr>\n",
              "      <th>2</th>\n",
              "      <td>5</td>\n",
              "      <td>0.043567</td>\n",
              "      <td>0.745566</td>\n",
              "      <td>0.701470</td>\n",
              "      <td>0.000697</td>\n",
              "      <td>0.373143</td>\n",
              "      <td>0.124595</td>\n",
              "      <td>100.260</td>\n",
              "      <td>0.621661</td>\n",
              "    </tr>\n",
              "    <tr>\n",
              "      <th>3</th>\n",
              "      <td>10</td>\n",
              "      <td>0.951670</td>\n",
              "      <td>0.658179</td>\n",
              "      <td>0.924525</td>\n",
              "      <td>0.965427</td>\n",
              "      <td>0.115474</td>\n",
              "      <td>0.032985</td>\n",
              "      <td>111.562</td>\n",
              "      <td>0.963590</td>\n",
              "    </tr>\n",
              "    <tr>\n",
              "      <th>4</th>\n",
              "      <td>134</td>\n",
              "      <td>0.452217</td>\n",
              "      <td>0.513238</td>\n",
              "      <td>0.560410</td>\n",
              "      <td>0.019443</td>\n",
              "      <td>0.096567</td>\n",
              "      <td>0.525519</td>\n",
              "      <td>114.290</td>\n",
              "      <td>0.894072</td>\n",
              "    </tr>\n",
              "  </tbody>\n",
              "</table>\n",
              "</div>\n",
              "      <button class=\"colab-df-convert\" onclick=\"convertToInteractive('df-c40a3c5d-d7b9-43da-9de8-68290673466d')\"\n",
              "              title=\"Convert this dataframe to an interactive table.\"\n",
              "              style=\"display:none;\">\n",
              "        \n",
              "  <svg xmlns=\"http://www.w3.org/2000/svg\" height=\"24px\"viewBox=\"0 0 24 24\"\n",
              "       width=\"24px\">\n",
              "    <path d=\"M0 0h24v24H0V0z\" fill=\"none\"/>\n",
              "    <path d=\"M18.56 5.44l.94 2.06.94-2.06 2.06-.94-2.06-.94-.94-2.06-.94 2.06-2.06.94zm-11 1L8.5 8.5l.94-2.06 2.06-.94-2.06-.94L8.5 2.5l-.94 2.06-2.06.94zm10 10l.94 2.06.94-2.06 2.06-.94-2.06-.94-.94-2.06-.94 2.06-2.06.94z\"/><path d=\"M17.41 7.96l-1.37-1.37c-.4-.4-.92-.59-1.43-.59-.52 0-1.04.2-1.43.59L10.3 9.45l-7.72 7.72c-.78.78-.78 2.05 0 2.83L4 21.41c.39.39.9.59 1.41.59.51 0 1.02-.2 1.41-.59l7.78-7.78 2.81-2.81c.8-.78.8-2.07 0-2.86zM5.41 20L4 18.59l7.72-7.72 1.47 1.35L5.41 20z\"/>\n",
              "  </svg>\n",
              "      </button>\n",
              "      \n",
              "  <style>\n",
              "    .colab-df-container {\n",
              "      display:flex;\n",
              "      flex-wrap:wrap;\n",
              "      gap: 12px;\n",
              "    }\n",
              "\n",
              "    .colab-df-convert {\n",
              "      background-color: #E8F0FE;\n",
              "      border: none;\n",
              "      border-radius: 50%;\n",
              "      cursor: pointer;\n",
              "      display: none;\n",
              "      fill: #1967D2;\n",
              "      height: 32px;\n",
              "      padding: 0 0 0 0;\n",
              "      width: 32px;\n",
              "    }\n",
              "\n",
              "    .colab-df-convert:hover {\n",
              "      background-color: #E2EBFA;\n",
              "      box-shadow: 0px 1px 2px rgba(60, 64, 67, 0.3), 0px 1px 3px 1px rgba(60, 64, 67, 0.15);\n",
              "      fill: #174EA6;\n",
              "    }\n",
              "\n",
              "    [theme=dark] .colab-df-convert {\n",
              "      background-color: #3B4455;\n",
              "      fill: #D2E3FC;\n",
              "    }\n",
              "\n",
              "    [theme=dark] .colab-df-convert:hover {\n",
              "      background-color: #434B5C;\n",
              "      box-shadow: 0px 1px 3px 1px rgba(0, 0, 0, 0.15);\n",
              "      filter: drop-shadow(0px 1px 2px rgba(0, 0, 0, 0.3));\n",
              "      fill: #FFFFFF;\n",
              "    }\n",
              "  </style>\n",
              "\n",
              "      <script>\n",
              "        const buttonEl =\n",
              "          document.querySelector('#df-c40a3c5d-d7b9-43da-9de8-68290673466d button.colab-df-convert');\n",
              "        buttonEl.style.display =\n",
              "          google.colab.kernel.accessAllowed ? 'block' : 'none';\n",
              "\n",
              "        async function convertToInteractive(key) {\n",
              "          const element = document.querySelector('#df-c40a3c5d-d7b9-43da-9de8-68290673466d');\n",
              "          const dataTable =\n",
              "            await google.colab.kernel.invokeFunction('convertToInteractive',\n",
              "                                                     [key], {});\n",
              "          if (!dataTable) return;\n",
              "\n",
              "          const docLinkHtml = 'Like what you see? Visit the ' +\n",
              "            '<a target=\"_blank\" href=https://colab.research.google.com/notebooks/data_table.ipynb>data table notebook</a>'\n",
              "            + ' to learn more about interactive tables.';\n",
              "          element.innerHTML = '';\n",
              "          dataTable['output_type'] = 'display_data';\n",
              "          await google.colab.output.renderOutput(dataTable, element);\n",
              "          const docLink = document.createElement('div');\n",
              "          docLink.innerHTML = docLinkHtml;\n",
              "          element.appendChild(docLink);\n",
              "        }\n",
              "      </script>\n",
              "    </div>\n",
              "  </div>\n",
              "  "
            ]
          },
          "metadata": {},
          "execution_count": 4
        }
      ]
    },
    {
      "cell_type": "markdown",
      "source": [
        "Vejamos a quantidade de linhas e colunas do primeiro DataFrame."
      ],
      "metadata": {
        "id": "-zaYZGN2JHdp"
      }
    },
    {
      "cell_type": "code",
      "source": [
        "print(f'Estrutura do dataframe: \\n Linhas:{df_tracks.shape[0]} \\n Colunas: {df_tracks.shape[1]}') \n",
        "print()\n",
        "print(f'Colunas do dataframe: {list(df_tracks.columns)}')"
      ],
      "metadata": {
        "colab": {
          "base_uri": "https://localhost:8080/"
        },
        "id": "rztTGdlauaQP",
        "outputId": "26e655cf-2c50-40db-889d-8e135b5bdc2b"
      },
      "execution_count": null,
      "outputs": [
        {
          "output_type": "stream",
          "name": "stdout",
          "text": [
            "Estrutura do dataframe: \n",
            " Linhas:17734 \n",
            " Colunas: 21\n",
            "\n",
            "Colunas do dataframe: ['track_id', 'bit_rate', 'comments', 'composer', 'date_created', 'date_recorded', 'duration', 'favorites', 'genre_top', 'genres', 'genres_all', 'information', 'interest', 'language_code', 'license', 'listens', 'lyricist', 'number', 'publisher', 'tags', 'title']\n"
          ]
        }
      ]
    },
    {
      "cell_type": "markdown",
      "source": [
        "Vejamos a quantidade de linhas e colunas do segundo DataFrame."
      ],
      "metadata": {
        "id": "BNRV2iG5Jfuv"
      }
    },
    {
      "cell_type": "code",
      "source": [
        "print(f'Estrutura do dataframe: \\n Linhas: {df_echo.shape[0]} \\n Colunas: {df_echo.shape[1]}') \n",
        "print()\n",
        "print(f'Colunas do dataframe: {list(df_echo.columns)}')"
      ],
      "metadata": {
        "colab": {
          "base_uri": "https://localhost:8080/"
        },
        "id": "S7DZj7vvuiJX",
        "outputId": "fdafdb5f-4e05-493f-81b6-cae835a539e3"
      },
      "execution_count": null,
      "outputs": [
        {
          "output_type": "stream",
          "name": "stdout",
          "text": [
            "Estrutura do dataframe: \n",
            " Linhas:13129 \n",
            " Colunas: 9\n",
            "\n",
            "Colunas do dataframe: ['track_id', 'acousticness', 'danceability', 'energy', 'instrumentalness', 'liveness', 'speechiness', 'tempo', 'valence']\n"
          ]
        }
      ]
    },
    {
      "cell_type": "markdown",
      "source": [
        "Verificando valores missing."
      ],
      "metadata": {
        "id": "prcphSTfKZsH"
      }
    },
    {
      "cell_type": "code",
      "source": [
        "df_tracks.isnull().sum()"
      ],
      "metadata": {
        "colab": {
          "base_uri": "https://localhost:8080/"
        },
        "id": "KkvNFBRLKYvw",
        "outputId": "44c42479-7256-4319-df38-570cb26f1ddf"
      },
      "execution_count": null,
      "outputs": [
        {
          "output_type": "execute_result",
          "data": {
            "text/plain": [
              "track_id             0\n",
              "bit_rate             0\n",
              "comments             0\n",
              "composer         17568\n",
              "date_created         0\n",
              "date_recorded    15836\n",
              "duration             0\n",
              "favorites            0\n",
              "genre_top            0\n",
              "genres               0\n",
              "genres_all           0\n",
              "information      17252\n",
              "interest             0\n",
              "language_code    13645\n",
              "license             20\n",
              "listens              0\n",
              "lyricist         17681\n",
              "number               0\n",
              "publisher        17682\n",
              "tags                 0\n",
              "title                0\n",
              "dtype: int64"
            ]
          },
          "metadata": {},
          "execution_count": 7
        }
      ]
    },
    {
      "cell_type": "code",
      "source": [
        "df_echo.isnull().sum()"
      ],
      "metadata": {
        "colab": {
          "base_uri": "https://localhost:8080/"
        },
        "id": "TKwXldtSKgU4",
        "outputId": "55794cbc-5700-4085-8fe3-f699db2287ed"
      },
      "execution_count": null,
      "outputs": [
        {
          "output_type": "execute_result",
          "data": {
            "text/plain": [
              "track_id            0\n",
              "acousticness        0\n",
              "danceability        0\n",
              "energy              0\n",
              "instrumentalness    0\n",
              "liveness            0\n",
              "speechiness         0\n",
              "tempo               0\n",
              "valence             0\n",
              "dtype: int64"
            ]
          },
          "metadata": {},
          "execution_count": 8
        }
      ]
    },
    {
      "cell_type": "markdown",
      "source": [
        "Podemos notar que no DataFrame \"df_tracks\" há colunas com praticamente todos os valores missing, diferente do DataFrame \"df_echo\", que não apresenta nenhum valor missing."
      ],
      "metadata": {
        "id": "GwxqnjnULloM"
      }
    },
    {
      "cell_type": "markdown",
      "source": [
        "Verificando os tipos das variáveis."
      ],
      "metadata": {
        "id": "M7lqpWafKiR3"
      }
    },
    {
      "cell_type": "code",
      "source": [
        "df_tracks.info()"
      ],
      "metadata": {
        "colab": {
          "base_uri": "https://localhost:8080/"
        },
        "id": "lABgdGpEKl6O",
        "outputId": "7d56e05e-aab1-4ad4-8f82-5e7d8d694222"
      },
      "execution_count": null,
      "outputs": [
        {
          "output_type": "stream",
          "name": "stdout",
          "text": [
            "<class 'pandas.core.frame.DataFrame'>\n",
            "RangeIndex: 17734 entries, 0 to 17733\n",
            "Data columns (total 21 columns):\n",
            " #   Column         Non-Null Count  Dtype \n",
            "---  ------         --------------  ----- \n",
            " 0   track_id       17734 non-null  int64 \n",
            " 1   bit_rate       17734 non-null  int64 \n",
            " 2   comments       17734 non-null  int64 \n",
            " 3   composer       166 non-null    object\n",
            " 4   date_created   17734 non-null  object\n",
            " 5   date_recorded  1898 non-null   object\n",
            " 6   duration       17734 non-null  int64 \n",
            " 7   favorites      17734 non-null  int64 \n",
            " 8   genre_top      17734 non-null  object\n",
            " 9   genres         17734 non-null  object\n",
            " 10  genres_all     17734 non-null  object\n",
            " 11  information    482 non-null    object\n",
            " 12  interest       17734 non-null  int64 \n",
            " 13  language_code  4089 non-null   object\n",
            " 14  license        17714 non-null  object\n",
            " 15  listens        17734 non-null  int64 \n",
            " 16  lyricist       53 non-null     object\n",
            " 17  number         17734 non-null  int64 \n",
            " 18  publisher      52 non-null     object\n",
            " 19  tags           17734 non-null  object\n",
            " 20  title          17734 non-null  object\n",
            "dtypes: int64(8), object(13)\n",
            "memory usage: 2.8+ MB\n"
          ]
        }
      ]
    },
    {
      "cell_type": "code",
      "source": [
        "df_echo.info()"
      ],
      "metadata": {
        "colab": {
          "base_uri": "https://localhost:8080/"
        },
        "id": "jAhHFhcjKoYr",
        "outputId": "95b4ace4-b2ce-436f-a9a8-64d32cf5af27"
      },
      "execution_count": null,
      "outputs": [
        {
          "output_type": "stream",
          "name": "stdout",
          "text": [
            "<class 'pandas.core.frame.DataFrame'>\n",
            "Int64Index: 13129 entries, 0 to 13128\n",
            "Data columns (total 9 columns):\n",
            " #   Column            Non-Null Count  Dtype  \n",
            "---  ------            --------------  -----  \n",
            " 0   track_id          13129 non-null  int64  \n",
            " 1   acousticness      13129 non-null  float64\n",
            " 2   danceability      13129 non-null  float64\n",
            " 3   energy            13129 non-null  float64\n",
            " 4   instrumentalness  13129 non-null  float64\n",
            " 5   liveness          13129 non-null  float64\n",
            " 6   speechiness       13129 non-null  float64\n",
            " 7   tempo             13129 non-null  float64\n",
            " 8   valence           13129 non-null  float64\n",
            "dtypes: float64(8), int64(1)\n",
            "memory usage: 1.0 MB\n"
          ]
        }
      ]
    },
    {
      "cell_type": "markdown",
      "source": [
        "Vamos analisar algumas estatísticas descritivas das variáveis."
      ],
      "metadata": {
        "id": "RZUCZjYwKqUD"
      }
    },
    {
      "cell_type": "code",
      "source": [
        "df_tracks.describe()"
      ],
      "metadata": {
        "colab": {
          "base_uri": "https://localhost:8080/",
          "height": 301
        },
        "id": "4c4Rw_HZLMnA",
        "outputId": "932a5514-b9d9-4e8d-92a8-642fe57bf90d"
      },
      "execution_count": null,
      "outputs": [
        {
          "output_type": "execute_result",
          "data": {
            "text/plain": [
              "            track_id       bit_rate      comments      duration     favorites  \\\n",
              "count   17734.000000   17734.000000  17734.000000  17734.000000  17734.000000   \n",
              "mean    69394.145991  258971.413781      0.020695    220.942934      1.685237   \n",
              "std     45784.589753   61535.621463      0.270070    177.906821      6.629402   \n",
              "min         2.000000      -1.000000      0.000000      2.000000      0.000000   \n",
              "25%     29979.000000  220982.000000      0.000000    139.000000      0.000000   \n",
              "50%     64193.500000  256000.000000      0.000000    192.000000      1.000000   \n",
              "75%    109442.750000  320000.000000      0.000000    255.000000      2.000000   \n",
              "max    155319.000000  448000.000000     24.000000   3675.000000    554.000000   \n",
              "\n",
              "           interest        listens        number  \n",
              "count  1.773400e+04   17734.000000  17734.000000  \n",
              "mean   1.678238e+03    1079.709541      6.184110  \n",
              "std    9.394969e+03    4693.497635      7.075062  \n",
              "min    1.800000e+01       9.000000      0.000000  \n",
              "25%    4.210000e+02     214.000000      2.000000  \n",
              "50%    8.240000e+02     461.000000      5.000000  \n",
              "75%    1.628000e+03    1018.000000      8.000000  \n",
              "max    1.038669e+06  433992.000000    100.000000  "
            ],
            "text/html": [
              "\n",
              "  <div id=\"df-e59ab096-da4d-4f5d-8cb1-1a81f536dfcd\">\n",
              "    <div class=\"colab-df-container\">\n",
              "      <div>\n",
              "<style scoped>\n",
              "    .dataframe tbody tr th:only-of-type {\n",
              "        vertical-align: middle;\n",
              "    }\n",
              "\n",
              "    .dataframe tbody tr th {\n",
              "        vertical-align: top;\n",
              "    }\n",
              "\n",
              "    .dataframe thead th {\n",
              "        text-align: right;\n",
              "    }\n",
              "</style>\n",
              "<table border=\"1\" class=\"dataframe\">\n",
              "  <thead>\n",
              "    <tr style=\"text-align: right;\">\n",
              "      <th></th>\n",
              "      <th>track_id</th>\n",
              "      <th>bit_rate</th>\n",
              "      <th>comments</th>\n",
              "      <th>duration</th>\n",
              "      <th>favorites</th>\n",
              "      <th>interest</th>\n",
              "      <th>listens</th>\n",
              "      <th>number</th>\n",
              "    </tr>\n",
              "  </thead>\n",
              "  <tbody>\n",
              "    <tr>\n",
              "      <th>count</th>\n",
              "      <td>17734.000000</td>\n",
              "      <td>17734.000000</td>\n",
              "      <td>17734.000000</td>\n",
              "      <td>17734.000000</td>\n",
              "      <td>17734.000000</td>\n",
              "      <td>1.773400e+04</td>\n",
              "      <td>17734.000000</td>\n",
              "      <td>17734.000000</td>\n",
              "    </tr>\n",
              "    <tr>\n",
              "      <th>mean</th>\n",
              "      <td>69394.145991</td>\n",
              "      <td>258971.413781</td>\n",
              "      <td>0.020695</td>\n",
              "      <td>220.942934</td>\n",
              "      <td>1.685237</td>\n",
              "      <td>1.678238e+03</td>\n",
              "      <td>1079.709541</td>\n",
              "      <td>6.184110</td>\n",
              "    </tr>\n",
              "    <tr>\n",
              "      <th>std</th>\n",
              "      <td>45784.589753</td>\n",
              "      <td>61535.621463</td>\n",
              "      <td>0.270070</td>\n",
              "      <td>177.906821</td>\n",
              "      <td>6.629402</td>\n",
              "      <td>9.394969e+03</td>\n",
              "      <td>4693.497635</td>\n",
              "      <td>7.075062</td>\n",
              "    </tr>\n",
              "    <tr>\n",
              "      <th>min</th>\n",
              "      <td>2.000000</td>\n",
              "      <td>-1.000000</td>\n",
              "      <td>0.000000</td>\n",
              "      <td>2.000000</td>\n",
              "      <td>0.000000</td>\n",
              "      <td>1.800000e+01</td>\n",
              "      <td>9.000000</td>\n",
              "      <td>0.000000</td>\n",
              "    </tr>\n",
              "    <tr>\n",
              "      <th>25%</th>\n",
              "      <td>29979.000000</td>\n",
              "      <td>220982.000000</td>\n",
              "      <td>0.000000</td>\n",
              "      <td>139.000000</td>\n",
              "      <td>0.000000</td>\n",
              "      <td>4.210000e+02</td>\n",
              "      <td>214.000000</td>\n",
              "      <td>2.000000</td>\n",
              "    </tr>\n",
              "    <tr>\n",
              "      <th>50%</th>\n",
              "      <td>64193.500000</td>\n",
              "      <td>256000.000000</td>\n",
              "      <td>0.000000</td>\n",
              "      <td>192.000000</td>\n",
              "      <td>1.000000</td>\n",
              "      <td>8.240000e+02</td>\n",
              "      <td>461.000000</td>\n",
              "      <td>5.000000</td>\n",
              "    </tr>\n",
              "    <tr>\n",
              "      <th>75%</th>\n",
              "      <td>109442.750000</td>\n",
              "      <td>320000.000000</td>\n",
              "      <td>0.000000</td>\n",
              "      <td>255.000000</td>\n",
              "      <td>2.000000</td>\n",
              "      <td>1.628000e+03</td>\n",
              "      <td>1018.000000</td>\n",
              "      <td>8.000000</td>\n",
              "    </tr>\n",
              "    <tr>\n",
              "      <th>max</th>\n",
              "      <td>155319.000000</td>\n",
              "      <td>448000.000000</td>\n",
              "      <td>24.000000</td>\n",
              "      <td>3675.000000</td>\n",
              "      <td>554.000000</td>\n",
              "      <td>1.038669e+06</td>\n",
              "      <td>433992.000000</td>\n",
              "      <td>100.000000</td>\n",
              "    </tr>\n",
              "  </tbody>\n",
              "</table>\n",
              "</div>\n",
              "      <button class=\"colab-df-convert\" onclick=\"convertToInteractive('df-e59ab096-da4d-4f5d-8cb1-1a81f536dfcd')\"\n",
              "              title=\"Convert this dataframe to an interactive table.\"\n",
              "              style=\"display:none;\">\n",
              "        \n",
              "  <svg xmlns=\"http://www.w3.org/2000/svg\" height=\"24px\"viewBox=\"0 0 24 24\"\n",
              "       width=\"24px\">\n",
              "    <path d=\"M0 0h24v24H0V0z\" fill=\"none\"/>\n",
              "    <path d=\"M18.56 5.44l.94 2.06.94-2.06 2.06-.94-2.06-.94-.94-2.06-.94 2.06-2.06.94zm-11 1L8.5 8.5l.94-2.06 2.06-.94-2.06-.94L8.5 2.5l-.94 2.06-2.06.94zm10 10l.94 2.06.94-2.06 2.06-.94-2.06-.94-.94-2.06-.94 2.06-2.06.94z\"/><path d=\"M17.41 7.96l-1.37-1.37c-.4-.4-.92-.59-1.43-.59-.52 0-1.04.2-1.43.59L10.3 9.45l-7.72 7.72c-.78.78-.78 2.05 0 2.83L4 21.41c.39.39.9.59 1.41.59.51 0 1.02-.2 1.41-.59l7.78-7.78 2.81-2.81c.8-.78.8-2.07 0-2.86zM5.41 20L4 18.59l7.72-7.72 1.47 1.35L5.41 20z\"/>\n",
              "  </svg>\n",
              "      </button>\n",
              "      \n",
              "  <style>\n",
              "    .colab-df-container {\n",
              "      display:flex;\n",
              "      flex-wrap:wrap;\n",
              "      gap: 12px;\n",
              "    }\n",
              "\n",
              "    .colab-df-convert {\n",
              "      background-color: #E8F0FE;\n",
              "      border: none;\n",
              "      border-radius: 50%;\n",
              "      cursor: pointer;\n",
              "      display: none;\n",
              "      fill: #1967D2;\n",
              "      height: 32px;\n",
              "      padding: 0 0 0 0;\n",
              "      width: 32px;\n",
              "    }\n",
              "\n",
              "    .colab-df-convert:hover {\n",
              "      background-color: #E2EBFA;\n",
              "      box-shadow: 0px 1px 2px rgba(60, 64, 67, 0.3), 0px 1px 3px 1px rgba(60, 64, 67, 0.15);\n",
              "      fill: #174EA6;\n",
              "    }\n",
              "\n",
              "    [theme=dark] .colab-df-convert {\n",
              "      background-color: #3B4455;\n",
              "      fill: #D2E3FC;\n",
              "    }\n",
              "\n",
              "    [theme=dark] .colab-df-convert:hover {\n",
              "      background-color: #434B5C;\n",
              "      box-shadow: 0px 1px 3px 1px rgba(0, 0, 0, 0.15);\n",
              "      filter: drop-shadow(0px 1px 2px rgba(0, 0, 0, 0.3));\n",
              "      fill: #FFFFFF;\n",
              "    }\n",
              "  </style>\n",
              "\n",
              "      <script>\n",
              "        const buttonEl =\n",
              "          document.querySelector('#df-e59ab096-da4d-4f5d-8cb1-1a81f536dfcd button.colab-df-convert');\n",
              "        buttonEl.style.display =\n",
              "          google.colab.kernel.accessAllowed ? 'block' : 'none';\n",
              "\n",
              "        async function convertToInteractive(key) {\n",
              "          const element = document.querySelector('#df-e59ab096-da4d-4f5d-8cb1-1a81f536dfcd');\n",
              "          const dataTable =\n",
              "            await google.colab.kernel.invokeFunction('convertToInteractive',\n",
              "                                                     [key], {});\n",
              "          if (!dataTable) return;\n",
              "\n",
              "          const docLinkHtml = 'Like what you see? Visit the ' +\n",
              "            '<a target=\"_blank\" href=https://colab.research.google.com/notebooks/data_table.ipynb>data table notebook</a>'\n",
              "            + ' to learn more about interactive tables.';\n",
              "          element.innerHTML = '';\n",
              "          dataTable['output_type'] = 'display_data';\n",
              "          await google.colab.output.renderOutput(dataTable, element);\n",
              "          const docLink = document.createElement('div');\n",
              "          docLink.innerHTML = docLinkHtml;\n",
              "          element.appendChild(docLink);\n",
              "        }\n",
              "      </script>\n",
              "    </div>\n",
              "  </div>\n",
              "  "
            ]
          },
          "metadata": {},
          "execution_count": 11
        }
      ]
    },
    {
      "cell_type": "code",
      "source": [
        "df_echo.describe()"
      ],
      "metadata": {
        "colab": {
          "base_uri": "https://localhost:8080/",
          "height": 301
        },
        "id": "A8zZKWBKLOkC",
        "outputId": "1e679697-370c-4091-9870-32c5d1259736"
      },
      "execution_count": null,
      "outputs": [
        {
          "output_type": "execute_result",
          "data": {
            "text/plain": [
              "            track_id  acousticness  danceability        energy  \\\n",
              "count   13129.000000  1.312900e+04  13129.000000  13129.000000   \n",
              "mean    34031.058268  5.246876e-01      0.487290      0.537516   \n",
              "std     28950.422182  3.837186e-01      0.190148      0.278049   \n",
              "min         2.000000  9.035000e-07      0.051307      0.000020   \n",
              "25%     12986.000000  1.037726e-01      0.344759      0.321300   \n",
              "50%     28097.000000  5.739848e-01      0.485635      0.549113   \n",
              "75%     45021.000000  9.207270e-01      0.629094      0.776254   \n",
              "max    124911.000000  9.957965e-01      0.968645      0.999964   \n",
              "\n",
              "       instrumentalness      liveness   speechiness         tempo  \\\n",
              "count      13129.000000  13129.000000  13129.000000  13129.000000   \n",
              "mean           0.640536      0.187804      0.099174    123.080061   \n",
              "std            0.361430      0.158051      0.137381     35.015137   \n",
              "min            0.000000      0.025297      0.022324     12.753000   \n",
              "25%            0.323466      0.101406      0.036932     95.967000   \n",
              "50%            0.838134      0.119002      0.049019    120.057000   \n",
              "75%            0.918244      0.211041      0.085452    145.318000   \n",
              "max            0.998016      0.980330      0.966177    251.072000   \n",
              "\n",
              "            valence  \n",
              "count  13129.000000  \n",
              "mean       0.439761  \n",
              "std        0.276028  \n",
              "min        0.000010  \n",
              "25%        0.197321  \n",
              "50%        0.417743  \n",
              "75%        0.665575  \n",
              "max        0.999990  "
            ],
            "text/html": [
              "\n",
              "  <div id=\"df-2f791694-ea4f-4fd7-9f9f-f4c9feebb242\">\n",
              "    <div class=\"colab-df-container\">\n",
              "      <div>\n",
              "<style scoped>\n",
              "    .dataframe tbody tr th:only-of-type {\n",
              "        vertical-align: middle;\n",
              "    }\n",
              "\n",
              "    .dataframe tbody tr th {\n",
              "        vertical-align: top;\n",
              "    }\n",
              "\n",
              "    .dataframe thead th {\n",
              "        text-align: right;\n",
              "    }\n",
              "</style>\n",
              "<table border=\"1\" class=\"dataframe\">\n",
              "  <thead>\n",
              "    <tr style=\"text-align: right;\">\n",
              "      <th></th>\n",
              "      <th>track_id</th>\n",
              "      <th>acousticness</th>\n",
              "      <th>danceability</th>\n",
              "      <th>energy</th>\n",
              "      <th>instrumentalness</th>\n",
              "      <th>liveness</th>\n",
              "      <th>speechiness</th>\n",
              "      <th>tempo</th>\n",
              "      <th>valence</th>\n",
              "    </tr>\n",
              "  </thead>\n",
              "  <tbody>\n",
              "    <tr>\n",
              "      <th>count</th>\n",
              "      <td>13129.000000</td>\n",
              "      <td>1.312900e+04</td>\n",
              "      <td>13129.000000</td>\n",
              "      <td>13129.000000</td>\n",
              "      <td>13129.000000</td>\n",
              "      <td>13129.000000</td>\n",
              "      <td>13129.000000</td>\n",
              "      <td>13129.000000</td>\n",
              "      <td>13129.000000</td>\n",
              "    </tr>\n",
              "    <tr>\n",
              "      <th>mean</th>\n",
              "      <td>34031.058268</td>\n",
              "      <td>5.246876e-01</td>\n",
              "      <td>0.487290</td>\n",
              "      <td>0.537516</td>\n",
              "      <td>0.640536</td>\n",
              "      <td>0.187804</td>\n",
              "      <td>0.099174</td>\n",
              "      <td>123.080061</td>\n",
              "      <td>0.439761</td>\n",
              "    </tr>\n",
              "    <tr>\n",
              "      <th>std</th>\n",
              "      <td>28950.422182</td>\n",
              "      <td>3.837186e-01</td>\n",
              "      <td>0.190148</td>\n",
              "      <td>0.278049</td>\n",
              "      <td>0.361430</td>\n",
              "      <td>0.158051</td>\n",
              "      <td>0.137381</td>\n",
              "      <td>35.015137</td>\n",
              "      <td>0.276028</td>\n",
              "    </tr>\n",
              "    <tr>\n",
              "      <th>min</th>\n",
              "      <td>2.000000</td>\n",
              "      <td>9.035000e-07</td>\n",
              "      <td>0.051307</td>\n",
              "      <td>0.000020</td>\n",
              "      <td>0.000000</td>\n",
              "      <td>0.025297</td>\n",
              "      <td>0.022324</td>\n",
              "      <td>12.753000</td>\n",
              "      <td>0.000010</td>\n",
              "    </tr>\n",
              "    <tr>\n",
              "      <th>25%</th>\n",
              "      <td>12986.000000</td>\n",
              "      <td>1.037726e-01</td>\n",
              "      <td>0.344759</td>\n",
              "      <td>0.321300</td>\n",
              "      <td>0.323466</td>\n",
              "      <td>0.101406</td>\n",
              "      <td>0.036932</td>\n",
              "      <td>95.967000</td>\n",
              "      <td>0.197321</td>\n",
              "    </tr>\n",
              "    <tr>\n",
              "      <th>50%</th>\n",
              "      <td>28097.000000</td>\n",
              "      <td>5.739848e-01</td>\n",
              "      <td>0.485635</td>\n",
              "      <td>0.549113</td>\n",
              "      <td>0.838134</td>\n",
              "      <td>0.119002</td>\n",
              "      <td>0.049019</td>\n",
              "      <td>120.057000</td>\n",
              "      <td>0.417743</td>\n",
              "    </tr>\n",
              "    <tr>\n",
              "      <th>75%</th>\n",
              "      <td>45021.000000</td>\n",
              "      <td>9.207270e-01</td>\n",
              "      <td>0.629094</td>\n",
              "      <td>0.776254</td>\n",
              "      <td>0.918244</td>\n",
              "      <td>0.211041</td>\n",
              "      <td>0.085452</td>\n",
              "      <td>145.318000</td>\n",
              "      <td>0.665575</td>\n",
              "    </tr>\n",
              "    <tr>\n",
              "      <th>max</th>\n",
              "      <td>124911.000000</td>\n",
              "      <td>9.957965e-01</td>\n",
              "      <td>0.968645</td>\n",
              "      <td>0.999964</td>\n",
              "      <td>0.998016</td>\n",
              "      <td>0.980330</td>\n",
              "      <td>0.966177</td>\n",
              "      <td>251.072000</td>\n",
              "      <td>0.999990</td>\n",
              "    </tr>\n",
              "  </tbody>\n",
              "</table>\n",
              "</div>\n",
              "      <button class=\"colab-df-convert\" onclick=\"convertToInteractive('df-2f791694-ea4f-4fd7-9f9f-f4c9feebb242')\"\n",
              "              title=\"Convert this dataframe to an interactive table.\"\n",
              "              style=\"display:none;\">\n",
              "        \n",
              "  <svg xmlns=\"http://www.w3.org/2000/svg\" height=\"24px\"viewBox=\"0 0 24 24\"\n",
              "       width=\"24px\">\n",
              "    <path d=\"M0 0h24v24H0V0z\" fill=\"none\"/>\n",
              "    <path d=\"M18.56 5.44l.94 2.06.94-2.06 2.06-.94-2.06-.94-.94-2.06-.94 2.06-2.06.94zm-11 1L8.5 8.5l.94-2.06 2.06-.94-2.06-.94L8.5 2.5l-.94 2.06-2.06.94zm10 10l.94 2.06.94-2.06 2.06-.94-2.06-.94-.94-2.06-.94 2.06-2.06.94z\"/><path d=\"M17.41 7.96l-1.37-1.37c-.4-.4-.92-.59-1.43-.59-.52 0-1.04.2-1.43.59L10.3 9.45l-7.72 7.72c-.78.78-.78 2.05 0 2.83L4 21.41c.39.39.9.59 1.41.59.51 0 1.02-.2 1.41-.59l7.78-7.78 2.81-2.81c.8-.78.8-2.07 0-2.86zM5.41 20L4 18.59l7.72-7.72 1.47 1.35L5.41 20z\"/>\n",
              "  </svg>\n",
              "      </button>\n",
              "      \n",
              "  <style>\n",
              "    .colab-df-container {\n",
              "      display:flex;\n",
              "      flex-wrap:wrap;\n",
              "      gap: 12px;\n",
              "    }\n",
              "\n",
              "    .colab-df-convert {\n",
              "      background-color: #E8F0FE;\n",
              "      border: none;\n",
              "      border-radius: 50%;\n",
              "      cursor: pointer;\n",
              "      display: none;\n",
              "      fill: #1967D2;\n",
              "      height: 32px;\n",
              "      padding: 0 0 0 0;\n",
              "      width: 32px;\n",
              "    }\n",
              "\n",
              "    .colab-df-convert:hover {\n",
              "      background-color: #E2EBFA;\n",
              "      box-shadow: 0px 1px 2px rgba(60, 64, 67, 0.3), 0px 1px 3px 1px rgba(60, 64, 67, 0.15);\n",
              "      fill: #174EA6;\n",
              "    }\n",
              "\n",
              "    [theme=dark] .colab-df-convert {\n",
              "      background-color: #3B4455;\n",
              "      fill: #D2E3FC;\n",
              "    }\n",
              "\n",
              "    [theme=dark] .colab-df-convert:hover {\n",
              "      background-color: #434B5C;\n",
              "      box-shadow: 0px 1px 3px 1px rgba(0, 0, 0, 0.15);\n",
              "      filter: drop-shadow(0px 1px 2px rgba(0, 0, 0, 0.3));\n",
              "      fill: #FFFFFF;\n",
              "    }\n",
              "  </style>\n",
              "\n",
              "      <script>\n",
              "        const buttonEl =\n",
              "          document.querySelector('#df-2f791694-ea4f-4fd7-9f9f-f4c9feebb242 button.colab-df-convert');\n",
              "        buttonEl.style.display =\n",
              "          google.colab.kernel.accessAllowed ? 'block' : 'none';\n",
              "\n",
              "        async function convertToInteractive(key) {\n",
              "          const element = document.querySelector('#df-2f791694-ea4f-4fd7-9f9f-f4c9feebb242');\n",
              "          const dataTable =\n",
              "            await google.colab.kernel.invokeFunction('convertToInteractive',\n",
              "                                                     [key], {});\n",
              "          if (!dataTable) return;\n",
              "\n",
              "          const docLinkHtml = 'Like what you see? Visit the ' +\n",
              "            '<a target=\"_blank\" href=https://colab.research.google.com/notebooks/data_table.ipynb>data table notebook</a>'\n",
              "            + ' to learn more about interactive tables.';\n",
              "          element.innerHTML = '';\n",
              "          dataTable['output_type'] = 'display_data';\n",
              "          await google.colab.output.renderOutput(dataTable, element);\n",
              "          const docLink = document.createElement('div');\n",
              "          docLink.innerHTML = docLinkHtml;\n",
              "          element.appendChild(docLink);\n",
              "        }\n",
              "      </script>\n",
              "    </div>\n",
              "  </div>\n",
              "  "
            ]
          },
          "metadata": {},
          "execution_count": 12
        }
      ]
    },
    {
      "cell_type": "markdown",
      "source": [
        "# 2.1. Juntando os Dois Datasets"
      ],
      "metadata": {
        "id": "Mdj6f1HFvdi9"
      }
    },
    {
      "cell_type": "markdown",
      "source": [
        "Vamos juntar os dois DataFrames em um só para podermos trabalhar melhor. \n",
        "\n",
        "A estrutura para a união dos dois DataFrames será baseada na estrutura do DataFrame \"df_echo\", sendo que do dataset \"df_tracks\" vamos pegar apenas as colunas \"track_id\" e \"genre_top\".\n",
        "\n",
        "Veja que essa abordagem para a junção dos dois DataFrames resolve o problema dos valores missing no DataFrame \"track_id\"."
      ],
      "metadata": {
        "id": "pgKOpI9Ev0BE"
      }
    },
    {
      "cell_type": "code",
      "source": [
        "df_complete = pd.merge(df_echo, df_tracks[['track_id', 'genre_top']], on='track_id')\n",
        "df_complete"
      ],
      "metadata": {
        "colab": {
          "base_uri": "https://localhost:8080/",
          "height": 424
        },
        "id": "Vsr9YeNdvrC3",
        "outputId": "af3aed94-9282-4fc9-f872-4319d3fd8f4a"
      },
      "execution_count": null,
      "outputs": [
        {
          "output_type": "execute_result",
          "data": {
            "text/plain": [
              "      track_id  acousticness  danceability    energy  instrumentalness  \\\n",
              "0            2      0.416675      0.675894  0.634476      1.062807e-02   \n",
              "1            3      0.374408      0.528643  0.817461      1.851103e-03   \n",
              "2            5      0.043567      0.745566  0.701470      6.967990e-04   \n",
              "3          134      0.452217      0.513238  0.560410      1.944269e-02   \n",
              "4          153      0.988306      0.255661  0.979774      9.730057e-01   \n",
              "...        ...           ...           ...       ...               ...   \n",
              "4797    124718      0.412194      0.686825  0.849309      6.000000e-10   \n",
              "4798    124719      0.054973      0.617535  0.728567      7.215700e-06   \n",
              "4799    124720      0.010478      0.652483  0.657498      7.098000e-07   \n",
              "4800    124721      0.067906      0.432421  0.764508      1.625500e-06   \n",
              "4801    124722      0.153518      0.638660  0.762567      5.000000e-10   \n",
              "\n",
              "      liveness  speechiness    tempo   valence genre_top  \n",
              "0     0.177647     0.159310  165.922  0.576661   Hip-Hop  \n",
              "1     0.105880     0.461818  126.957  0.269240   Hip-Hop  \n",
              "2     0.373143     0.124595  100.260  0.621661   Hip-Hop  \n",
              "3     0.096567     0.525519  114.290  0.894072   Hip-Hop  \n",
              "4     0.121342     0.051740   90.241  0.034018      Rock  \n",
              "...        ...          ...      ...       ...       ...  \n",
              "4797  0.867543     0.367315   96.104  0.692414   Hip-Hop  \n",
              "4798  0.131438     0.243130   96.262  0.399720   Hip-Hop  \n",
              "4799  0.701523     0.229174   94.885  0.432240   Hip-Hop  \n",
              "4800  0.104412     0.310553  171.329  0.580087   Hip-Hop  \n",
              "4801  0.264847     0.303372   77.842  0.656612   Hip-Hop  \n",
              "\n",
              "[4802 rows x 10 columns]"
            ],
            "text/html": [
              "\n",
              "  <div id=\"df-831808f0-de72-43f8-81fe-43b038826255\">\n",
              "    <div class=\"colab-df-container\">\n",
              "      <div>\n",
              "<style scoped>\n",
              "    .dataframe tbody tr th:only-of-type {\n",
              "        vertical-align: middle;\n",
              "    }\n",
              "\n",
              "    .dataframe tbody tr th {\n",
              "        vertical-align: top;\n",
              "    }\n",
              "\n",
              "    .dataframe thead th {\n",
              "        text-align: right;\n",
              "    }\n",
              "</style>\n",
              "<table border=\"1\" class=\"dataframe\">\n",
              "  <thead>\n",
              "    <tr style=\"text-align: right;\">\n",
              "      <th></th>\n",
              "      <th>track_id</th>\n",
              "      <th>acousticness</th>\n",
              "      <th>danceability</th>\n",
              "      <th>energy</th>\n",
              "      <th>instrumentalness</th>\n",
              "      <th>liveness</th>\n",
              "      <th>speechiness</th>\n",
              "      <th>tempo</th>\n",
              "      <th>valence</th>\n",
              "      <th>genre_top</th>\n",
              "    </tr>\n",
              "  </thead>\n",
              "  <tbody>\n",
              "    <tr>\n",
              "      <th>0</th>\n",
              "      <td>2</td>\n",
              "      <td>0.416675</td>\n",
              "      <td>0.675894</td>\n",
              "      <td>0.634476</td>\n",
              "      <td>1.062807e-02</td>\n",
              "      <td>0.177647</td>\n",
              "      <td>0.159310</td>\n",
              "      <td>165.922</td>\n",
              "      <td>0.576661</td>\n",
              "      <td>Hip-Hop</td>\n",
              "    </tr>\n",
              "    <tr>\n",
              "      <th>1</th>\n",
              "      <td>3</td>\n",
              "      <td>0.374408</td>\n",
              "      <td>0.528643</td>\n",
              "      <td>0.817461</td>\n",
              "      <td>1.851103e-03</td>\n",
              "      <td>0.105880</td>\n",
              "      <td>0.461818</td>\n",
              "      <td>126.957</td>\n",
              "      <td>0.269240</td>\n",
              "      <td>Hip-Hop</td>\n",
              "    </tr>\n",
              "    <tr>\n",
              "      <th>2</th>\n",
              "      <td>5</td>\n",
              "      <td>0.043567</td>\n",
              "      <td>0.745566</td>\n",
              "      <td>0.701470</td>\n",
              "      <td>6.967990e-04</td>\n",
              "      <td>0.373143</td>\n",
              "      <td>0.124595</td>\n",
              "      <td>100.260</td>\n",
              "      <td>0.621661</td>\n",
              "      <td>Hip-Hop</td>\n",
              "    </tr>\n",
              "    <tr>\n",
              "      <th>3</th>\n",
              "      <td>134</td>\n",
              "      <td>0.452217</td>\n",
              "      <td>0.513238</td>\n",
              "      <td>0.560410</td>\n",
              "      <td>1.944269e-02</td>\n",
              "      <td>0.096567</td>\n",
              "      <td>0.525519</td>\n",
              "      <td>114.290</td>\n",
              "      <td>0.894072</td>\n",
              "      <td>Hip-Hop</td>\n",
              "    </tr>\n",
              "    <tr>\n",
              "      <th>4</th>\n",
              "      <td>153</td>\n",
              "      <td>0.988306</td>\n",
              "      <td>0.255661</td>\n",
              "      <td>0.979774</td>\n",
              "      <td>9.730057e-01</td>\n",
              "      <td>0.121342</td>\n",
              "      <td>0.051740</td>\n",
              "      <td>90.241</td>\n",
              "      <td>0.034018</td>\n",
              "      <td>Rock</td>\n",
              "    </tr>\n",
              "    <tr>\n",
              "      <th>...</th>\n",
              "      <td>...</td>\n",
              "      <td>...</td>\n",
              "      <td>...</td>\n",
              "      <td>...</td>\n",
              "      <td>...</td>\n",
              "      <td>...</td>\n",
              "      <td>...</td>\n",
              "      <td>...</td>\n",
              "      <td>...</td>\n",
              "      <td>...</td>\n",
              "    </tr>\n",
              "    <tr>\n",
              "      <th>4797</th>\n",
              "      <td>124718</td>\n",
              "      <td>0.412194</td>\n",
              "      <td>0.686825</td>\n",
              "      <td>0.849309</td>\n",
              "      <td>6.000000e-10</td>\n",
              "      <td>0.867543</td>\n",
              "      <td>0.367315</td>\n",
              "      <td>96.104</td>\n",
              "      <td>0.692414</td>\n",
              "      <td>Hip-Hop</td>\n",
              "    </tr>\n",
              "    <tr>\n",
              "      <th>4798</th>\n",
              "      <td>124719</td>\n",
              "      <td>0.054973</td>\n",
              "      <td>0.617535</td>\n",
              "      <td>0.728567</td>\n",
              "      <td>7.215700e-06</td>\n",
              "      <td>0.131438</td>\n",
              "      <td>0.243130</td>\n",
              "      <td>96.262</td>\n",
              "      <td>0.399720</td>\n",
              "      <td>Hip-Hop</td>\n",
              "    </tr>\n",
              "    <tr>\n",
              "      <th>4799</th>\n",
              "      <td>124720</td>\n",
              "      <td>0.010478</td>\n",
              "      <td>0.652483</td>\n",
              "      <td>0.657498</td>\n",
              "      <td>7.098000e-07</td>\n",
              "      <td>0.701523</td>\n",
              "      <td>0.229174</td>\n",
              "      <td>94.885</td>\n",
              "      <td>0.432240</td>\n",
              "      <td>Hip-Hop</td>\n",
              "    </tr>\n",
              "    <tr>\n",
              "      <th>4800</th>\n",
              "      <td>124721</td>\n",
              "      <td>0.067906</td>\n",
              "      <td>0.432421</td>\n",
              "      <td>0.764508</td>\n",
              "      <td>1.625500e-06</td>\n",
              "      <td>0.104412</td>\n",
              "      <td>0.310553</td>\n",
              "      <td>171.329</td>\n",
              "      <td>0.580087</td>\n",
              "      <td>Hip-Hop</td>\n",
              "    </tr>\n",
              "    <tr>\n",
              "      <th>4801</th>\n",
              "      <td>124722</td>\n",
              "      <td>0.153518</td>\n",
              "      <td>0.638660</td>\n",
              "      <td>0.762567</td>\n",
              "      <td>5.000000e-10</td>\n",
              "      <td>0.264847</td>\n",
              "      <td>0.303372</td>\n",
              "      <td>77.842</td>\n",
              "      <td>0.656612</td>\n",
              "      <td>Hip-Hop</td>\n",
              "    </tr>\n",
              "  </tbody>\n",
              "</table>\n",
              "<p>4802 rows × 10 columns</p>\n",
              "</div>\n",
              "      <button class=\"colab-df-convert\" onclick=\"convertToInteractive('df-831808f0-de72-43f8-81fe-43b038826255')\"\n",
              "              title=\"Convert this dataframe to an interactive table.\"\n",
              "              style=\"display:none;\">\n",
              "        \n",
              "  <svg xmlns=\"http://www.w3.org/2000/svg\" height=\"24px\"viewBox=\"0 0 24 24\"\n",
              "       width=\"24px\">\n",
              "    <path d=\"M0 0h24v24H0V0z\" fill=\"none\"/>\n",
              "    <path d=\"M18.56 5.44l.94 2.06.94-2.06 2.06-.94-2.06-.94-.94-2.06-.94 2.06-2.06.94zm-11 1L8.5 8.5l.94-2.06 2.06-.94-2.06-.94L8.5 2.5l-.94 2.06-2.06.94zm10 10l.94 2.06.94-2.06 2.06-.94-2.06-.94-.94-2.06-.94 2.06-2.06.94z\"/><path d=\"M17.41 7.96l-1.37-1.37c-.4-.4-.92-.59-1.43-.59-.52 0-1.04.2-1.43.59L10.3 9.45l-7.72 7.72c-.78.78-.78 2.05 0 2.83L4 21.41c.39.39.9.59 1.41.59.51 0 1.02-.2 1.41-.59l7.78-7.78 2.81-2.81c.8-.78.8-2.07 0-2.86zM5.41 20L4 18.59l7.72-7.72 1.47 1.35L5.41 20z\"/>\n",
              "  </svg>\n",
              "      </button>\n",
              "      \n",
              "  <style>\n",
              "    .colab-df-container {\n",
              "      display:flex;\n",
              "      flex-wrap:wrap;\n",
              "      gap: 12px;\n",
              "    }\n",
              "\n",
              "    .colab-df-convert {\n",
              "      background-color: #E8F0FE;\n",
              "      border: none;\n",
              "      border-radius: 50%;\n",
              "      cursor: pointer;\n",
              "      display: none;\n",
              "      fill: #1967D2;\n",
              "      height: 32px;\n",
              "      padding: 0 0 0 0;\n",
              "      width: 32px;\n",
              "    }\n",
              "\n",
              "    .colab-df-convert:hover {\n",
              "      background-color: #E2EBFA;\n",
              "      box-shadow: 0px 1px 2px rgba(60, 64, 67, 0.3), 0px 1px 3px 1px rgba(60, 64, 67, 0.15);\n",
              "      fill: #174EA6;\n",
              "    }\n",
              "\n",
              "    [theme=dark] .colab-df-convert {\n",
              "      background-color: #3B4455;\n",
              "      fill: #D2E3FC;\n",
              "    }\n",
              "\n",
              "    [theme=dark] .colab-df-convert:hover {\n",
              "      background-color: #434B5C;\n",
              "      box-shadow: 0px 1px 3px 1px rgba(0, 0, 0, 0.15);\n",
              "      filter: drop-shadow(0px 1px 2px rgba(0, 0, 0, 0.3));\n",
              "      fill: #FFFFFF;\n",
              "    }\n",
              "  </style>\n",
              "\n",
              "      <script>\n",
              "        const buttonEl =\n",
              "          document.querySelector('#df-831808f0-de72-43f8-81fe-43b038826255 button.colab-df-convert');\n",
              "        buttonEl.style.display =\n",
              "          google.colab.kernel.accessAllowed ? 'block' : 'none';\n",
              "\n",
              "        async function convertToInteractive(key) {\n",
              "          const element = document.querySelector('#df-831808f0-de72-43f8-81fe-43b038826255');\n",
              "          const dataTable =\n",
              "            await google.colab.kernel.invokeFunction('convertToInteractive',\n",
              "                                                     [key], {});\n",
              "          if (!dataTable) return;\n",
              "\n",
              "          const docLinkHtml = 'Like what you see? Visit the ' +\n",
              "            '<a target=\"_blank\" href=https://colab.research.google.com/notebooks/data_table.ipynb>data table notebook</a>'\n",
              "            + ' to learn more about interactive tables.';\n",
              "          element.innerHTML = '';\n",
              "          dataTable['output_type'] = 'display_data';\n",
              "          await google.colab.output.renderOutput(dataTable, element);\n",
              "          const docLink = document.createElement('div');\n",
              "          docLink.innerHTML = docLinkHtml;\n",
              "          element.appendChild(docLink);\n",
              "        }\n",
              "      </script>\n",
              "    </div>\n",
              "  </div>\n",
              "  "
            ]
          },
          "metadata": {},
          "execution_count": 17
        }
      ]
    },
    {
      "cell_type": "markdown",
      "source": [
        "Agora temos um DataFrame com 4802 entradas e 10 colunas."
      ],
      "metadata": {
        "id": "VksU-KIOwVNM"
      }
    },
    {
      "cell_type": "markdown",
      "source": [
        "# 3. Divisão Entre Teste e Treino"
      ],
      "metadata": {
        "id": "6zzJnlPqweux"
      }
    },
    {
      "cell_type": "markdown",
      "source": [
        "Antes de começarmos a fazer análises e a manipular nossos dados efetivamente, devemos separá-los em dados de treino e dados de teste. Esta separação é de suma importância para que não tenhamos problemas de **'data leakage'** e **'overfitting'**. "
      ],
      "metadata": {
        "id": "AYgpd2QBwieD"
      }
    },
    {
      "cell_type": "markdown",
      "source": [
        "Em primeiro lugar, vamos separar nossas variáveis previsoras da nossa variável target. As variáveis previsoras são aquelas que serão utilizadas para o modelo para fazer a previsão da variável target.\n"
      ],
      "metadata": {
        "id": "1NHm1R-2KBJI"
      }
    },
    {
      "cell_type": "code",
      "source": [
        "features = df_complete.drop(columns=['genre_top', 'track_id'])\n",
        "labels = df_complete['genre_top']"
      ],
      "metadata": {
        "id": "TVPKWjyUJ95n"
      },
      "execution_count": null,
      "outputs": []
    },
    {
      "cell_type": "markdown",
      "source": [
        "Agora, vamos separar os conjuntos de teste e de treino."
      ],
      "metadata": {
        "id": "lL8DwrRUKK7H"
      }
    },
    {
      "cell_type": "code",
      "source": [
        "from sklearn.model_selection import train_test_split\n",
        "\n",
        "# Divisão entre treino e teste\n",
        "X_train, X_test, y_train, y_test = train_test_split(features, labels, test_size=0.3, random_state=0)"
      ],
      "metadata": {
        "id": "FcnjEtx8wZ5H"
      },
      "execution_count": null,
      "outputs": []
    },
    {
      "cell_type": "markdown",
      "source": [
        "# 4. Criação do Modelo, com Pipeline"
      ],
      "metadata": {
        "id": "_D6PRASqyHDJ"
      }
    },
    {
      "cell_type": "markdown",
      "source": [
        "Para fazer a classificação dos estilos musicais das músicas, utilizaremos o modelo RandomForest Classifier. Além disso, utilizaremos um Pipeline para nos ajudar a tornar as coisas mais práticas e nos previnir possíveis erros durante as etapas de construção do modelo.\n",
        "<br>\n",
        "<br>\n",
        "Vamos começar importando as classes que serão utilizadas durante este processo."
      ],
      "metadata": {
        "id": "vd4Xp0HkyLWj"
      }
    },
    {
      "cell_type": "code",
      "source": [
        "# IMPORTAÇÕES\n",
        "from sklearn.pipeline import Pipeline \n",
        "from sklearn.preprocessing import OneHotEncoder, StandardScaler, MinMaxScaler\n",
        "from sklearn.compose import ColumnTransformer\n",
        "from sklearn.decomposition import PCA \n",
        "from sklearn.impute import SimpleImputer"
      ],
      "metadata": {
        "id": "ZyIT1p96x8PU"
      },
      "execution_count": null,
      "outputs": []
    },
    {
      "cell_type": "markdown",
      "source": [
        "Nossa estratégia para tratar os valores \"missing\" será substituí-los com a mediana. Além disso, faremos uma padronização dos dados utilizando o `StandardScaler()`."
      ],
      "metadata": {
        "id": "Hb0LCnXzNHHu"
      }
    },
    {
      "cell_type": "code",
      "source": [
        "# Criando o pré-processamento dos dados no pipeline\n",
        "numeric_transformer = Pipeline(steps=[('imputer', SimpleImputer(strategy='median')), ('scaler', StandardScaler())])\n",
        "\n",
        "preprocessor = ColumnTransformer(transformers=[('num', numeric_transformer, X_train.columns)])"
      ],
      "metadata": {
        "id": "twW3QmYKy5gY"
      },
      "execution_count": null,
      "outputs": []
    },
    {
      "cell_type": "code",
      "source": [
        "# Pipeline com o modelo de Random Forest\n",
        "from sklearn.ensemble import RandomForestClassifier\n",
        "\n",
        "rf_model = Pipeline(steps=[('preprocessor', preprocessor), ('classifier', RandomForestClassifier())])"
      ],
      "metadata": {
        "id": "B7_6mqEW0wQ6"
      },
      "execution_count": null,
      "outputs": []
    },
    {
      "cell_type": "markdown",
      "source": [
        "Com o modelo já criado, vamos treiná-lo."
      ],
      "metadata": {
        "id": "fw8WKEq9NYUf"
      }
    },
    {
      "cell_type": "code",
      "source": [
        "# Vamos treinar o modelo\n",
        "rf_model.fit(X_train, y_train)"
      ],
      "metadata": {
        "colab": {
          "base_uri": "https://localhost:8080/"
        },
        "id": "8gm6FhIX1IsA",
        "outputId": "0becebef-f9f0-4be9-8267-92cedd5f397e"
      },
      "execution_count": null,
      "outputs": [
        {
          "output_type": "execute_result",
          "data": {
            "text/plain": [
              "Pipeline(steps=[('preprocessor',\n",
              "                 ColumnTransformer(transformers=[('num',\n",
              "                                                  Pipeline(steps=[('imputer',\n",
              "                                                                   SimpleImputer(strategy='median')),\n",
              "                                                                  ('scaler',\n",
              "                                                                   StandardScaler())]),\n",
              "                                                  Index(['acousticness', 'danceability', 'energy', 'instrumentalness',\n",
              "       'liveness', 'speechiness', 'tempo', 'valence'],\n",
              "      dtype='object'))])),\n",
              "                ('classifier', RandomForestClassifier())])"
            ]
          },
          "metadata": {},
          "execution_count": 23
        }
      ]
    },
    {
      "cell_type": "markdown",
      "source": [
        "Modelo treinado, hora de fazer as predições com nosso conjunto de teste."
      ],
      "metadata": {
        "id": "DKAtSHkFNc4B"
      }
    },
    {
      "cell_type": "code",
      "source": [
        "# Fazendo as predições \n",
        "pred = rf_model.predict(X_test)"
      ],
      "metadata": {
        "id": "zl92U6A41YEz"
      },
      "execution_count": null,
      "outputs": []
    },
    {
      "cell_type": "markdown",
      "source": [
        "# 5. Medindo a Performance do Modelo"
      ],
      "metadata": {
        "id": "adxlw0I51hiJ"
      }
    },
    {
      "cell_type": "markdown",
      "source": [
        "Com as predições já feitas, devemos medir a performance do nosso modelo por meio das métricas de performance apontadas na seção 1.\n"
      ],
      "metadata": {
        "id": "mDV7Iy1QNoJ8"
      }
    },
    {
      "cell_type": "code",
      "source": [
        "# Importações\n",
        "from sklearn.metrics import accuracy_score\n",
        "from sklearn.metrics import classification_report\n",
        "from sklearn.metrics import confusion_matrix, ConfusionMatrixDisplay, f1_score"
      ],
      "metadata": {
        "id": "E9_cG6ak1lZF"
      },
      "execution_count": null,
      "outputs": []
    },
    {
      "cell_type": "markdown",
      "source": [
        "Começando pela acurácia."
      ],
      "metadata": {
        "id": "2oZSaXUCOCfP"
      }
    },
    {
      "cell_type": "code",
      "source": [
        "# Acurácia do modelo\n",
        "print(f'Acurácia: {accuracy_score(y_test, pred)}')"
      ],
      "metadata": {
        "colab": {
          "base_uri": "https://localhost:8080/"
        },
        "id": "mWCA5Euq11PQ",
        "outputId": "24d4ab01-88f7-446b-ada7-e3f10c790a2b"
      },
      "execution_count": null,
      "outputs": [
        {
          "output_type": "stream",
          "name": "stdout",
          "text": [
            "Acurácia: 0.9236641221374046\n"
          ]
        }
      ]
    },
    {
      "cell_type": "markdown",
      "source": [
        "F1 SCORE"
      ],
      "metadata": {
        "id": "VJg4QFCYObpk"
      }
    },
    {
      "cell_type": "markdown",
      "source": [
        "Primeiro, vamos plotar a matriz de confusão e gerar o \"classification report\" para entender melhor como estão as previsões do nosso modelo. "
      ],
      "metadata": {
        "id": "1bFMNOoeOd7y"
      }
    },
    {
      "cell_type": "code",
      "source": [
        "# Matriz de Confusão\n",
        "cm = confusion_matrix(y_test, pred, labels=rf_model.classes_)\n",
        "disp = ConfusionMatrixDisplay(confusion_matrix=cm, display_labels=rf_model.classes_)\n",
        "disp.plot()\n",
        "plt.show()"
      ],
      "metadata": {
        "colab": {
          "base_uri": "https://localhost:8080/",
          "height": 282
        },
        "id": "odqvoLhQ3q_A",
        "outputId": "045d8852-6735-4a1a-9cc2-ac682b89b29c"
      },
      "execution_count": null,
      "outputs": [
        {
          "output_type": "display_data",
          "data": {
            "text/plain": [
              "<Figure size 432x288 with 2 Axes>"
            ],
            "image/png": "[encoded data removed]"
          },
          "metadata": {
            "needs_background": "light"
          }
        }
      ]
    },
    {
      "cell_type": "code",
      "source": [
        "# Classification Report\n",
        "print(f\"Random Forest: \\n {classification_report(y_test, pred)}\")"
      ],
      "metadata": {
        "colab": {
          "base_uri": "https://localhost:8080/"
        },
        "id": "6yJAqgZCRcWn",
        "outputId": "a2cc5e92-e661-4a32-b193-88ae4e63a32f"
      },
      "execution_count": null,
      "outputs": [
        {
          "output_type": "stream",
          "name": "stdout",
          "text": [
            "Random Forest: \n",
            "               precision    recall  f1-score   support\n",
            "\n",
            "     Hip-Hop       0.84      0.74      0.79       279\n",
            "        Rock       0.94      0.97      0.95      1162\n",
            "\n",
            "    accuracy                           0.92      1441\n",
            "   macro avg       0.89      0.85      0.87      1441\n",
            "weighted avg       0.92      0.92      0.92      1441\n",
            "\n"
          ]
        }
      ]
    },
    {
      "cell_type": "markdown",
      "source": [
        "Por fim, verificamos a métrica F1 Score."
      ],
      "metadata": {
        "id": "0rY8iuJROrIh"
      }
    },
    {
      "cell_type": "code",
      "source": [
        "print(f\"F1 Score: {f1_score(y_test, pred, average='macro')}\")"
      ],
      "metadata": {
        "colab": {
          "base_uri": "https://localhost:8080/"
        },
        "id": "KaA6DtR_OINg",
        "outputId": "3b2b4372-994c-4721-b58e-e4043af6ca23"
      },
      "execution_count": null,
      "outputs": [
        {
          "output_type": "stream",
          "name": "stdout",
          "text": [
            "F1 Score: 0.8717133163698049\n"
          ]
        }
      ]
    },
    {
      "cell_type": "markdown",
      "source": [
        "# 7. Lidando com Dados Desbalanceados"
      ],
      "metadata": {
        "id": "RdC8FMnGR-5B"
      }
    },
    {
      "cell_type": "markdown",
      "source": [
        "Ao analisarmos a matriz de confusão, notamos que o modelo está errando mais previsões quando se trata de Hip-Hop. Isso acontece porque o nosso dataset está desbalanceado, isto é, há muito mais dados de Rock do que de Hip-Hop. Para verificar o desbalanceamento dos nossos dados, veja o gráfico a seguir."
      ],
      "metadata": {
        "id": "s5Z7tEeJSVeN"
      }
    },
    {
      "cell_type": "code",
      "source": [
        "_ = sns.countplot(data=df_complete, x='genre_top')"
      ],
      "metadata": {
        "colab": {
          "base_uri": "https://localhost:8080/",
          "height": 282
        },
        "id": "bYki1Mz9SUBw",
        "outputId": "421b7041-06dc-4ada-91b0-7b4ca186b5d5"
      },
      "execution_count": null,
      "outputs": [
        {
          "output_type": "display_data",
          "data": {
            "text/plain": [
              "<Figure size 432x288 with 1 Axes>"
            ],
            "image/png": "[encoded data removed]"
          },
          "metadata": {
            "needs_background": "light"
          }
        }
      ]
    },
    {
      "cell_type": "code",
      "source": [
        "rock = len(df_complete[df_complete['genre_top'] == 'Rock'])\n",
        "hip_hop = len(df_complete[df_complete['genre_top'] == 'Hip-Hop'])\n",
        "diferenca = rock/hip_hop\n",
        "diferenca"
      ],
      "metadata": {
        "colab": {
          "base_uri": "https://localhost:8080/"
        },
        "id": "8RyFG6Xbamua",
        "outputId": "b0249030-f028-485f-d47b-d9903d8a87cb"
      },
      "execution_count": null,
      "outputs": [
        {
          "output_type": "execute_result",
          "data": {
            "text/plain": [
              "4.276923076923077"
            ]
          },
          "metadata": {},
          "execution_count": 32
        }
      ]
    },
    {
      "cell_type": "markdown",
      "source": [
        "Observe que há muito mais dados referentes a Rock do que a Hip-Hop - a classe Rock é 4.28 vezes maior do que a classe Hip-Hop -, o que causa um\n",
        "desbalanceamento significativo nos nossos dados.\n",
        "<br>\n",
        "<br>\n",
        "Para tratar este desbalanceamento, vamos, a princípio, utilizar o class_weight, ou seja, vamos atribuir diferentes pesos a cada classe (Rock e Hip-Hop)."
      ],
      "metadata": {
        "id": "tNM45WO-SjkA"
      }
    },
    {
      "cell_type": "code",
      "source": [
        "# rf = RandomForestClassifier(class_weight={0:1, 1:100}\n",
        "# rf = RandomForestClassifier(class_weight={'balanced'}\n",
        "\n",
        "from sklearn.metrics import precision_recall_fscore_support\n",
        "\n",
        "# Vamos definir uma função que irá fazer diversos testes para diferentes pesos\n",
        "\n",
        "def try_class_weight(class_wight_values):\n",
        "  numeric_transformer = Pipeline(steps=[('imputer', SimpleImputer(strategy='median')), (\"scaler\", StandardScaler())])\n",
        "  preprocessor = ColumnTransformer(transformers=[('num', numeric_transformer, X_train.columns)])\n",
        "\n",
        "  rf_model_balanced = Pipeline(steps=[(\"preprocessor\", preprocessor), (\"classifier\", RandomForestClassifier(class_weight=class_wight_values, random_state=0))])\n",
        "\n",
        "  rf_model_balanced.fit(X_train, y_train)\n",
        "\n",
        "  pred = rf_model_balanced.predict(X_test)\n",
        "\n",
        "  # Matriz de confusão e Acurácia\n",
        "  cm = confusion_matrix(y_test, pred)\n",
        "  acc = accuracy_score(y_test, pred)\n",
        "  acc2 = (cm[0,0] + cm[1,1])/len(y_test) # Veja que estamos calculando a acurácia de forma um tanto quanto 'manual'\n",
        "\n",
        "  # fscore\n",
        "  precision, recall, fscore, support = precision_recall_fscore_support(y_test, pred, average='macro')\n",
        "\n",
        "  return acc2, fscore"
      ],
      "metadata": {
        "id": "TNdSCJ3PSqbb"
      },
      "execution_count": null,
      "outputs": []
    },
    {
      "cell_type": "code",
      "source": [
        "# Testando a nossa função para alguns valores específicos\n",
        "\n",
        "accuracy, fscore = try_class_weight('balanced')\n",
        "print(\"Para 'balanced'\")\n",
        "print(f\"Acurácia: {accuracy}\")\n",
        "print(f\"F1 Score: {fscore}\")\n",
        "print()\n",
        "\n",
        "accuracy, fscore = try_class_weight(None)\n",
        "print(\"Para 'None'\")\n",
        "print(f\"Acurácia: {accuracy}\")\n",
        "print(f\"F1 Score: {fscore}\")\n",
        "print()\n",
        "\n",
        "\n",
        "accuracy, fscore = try_class_weight(\"balanced_subsample\")\n",
        "print(\"Para balanced_subsample\")\n",
        "print(f\"Acurácia: {accuracy}\")\n",
        "print(f\"F1 Score: {fscore}\")\n",
        "print()\n",
        "\n",
        "\n",
        "\n",
        "accuracy, fscore = try_class_weight({'Rock': 1, 'Hip-Hop':4})\n",
        "print(\"Para {'Rock': 1, 'Hip-Hop':4}\")\n",
        "print(f\"Acurácia: {accuracy}\")\n",
        "print(f\"F1 Score: {fscore}\")\n",
        "print()"
      ],
      "metadata": {
        "colab": {
          "base_uri": "https://localhost:8080/"
        },
        "id": "4uhrAd_jextJ",
        "outputId": "89249151-b2f4-4da7-ce23-835113dd537f"
      },
      "execution_count": null,
      "outputs": [
        {
          "output_type": "stream",
          "name": "stdout",
          "text": [
            "Para 'balanced'\n",
            "Acurácia: 0.919500346981263\n",
            "F1 Score: 0.8639060769882108\n",
            "\n",
            "Para 'None'\n",
            "Acurácia: 0.9208882720333103\n",
            "F1 Score: 0.8674414326014963\n",
            "\n",
            "Para balanced_subsample\n",
            "Acurácia: 0.9174184594031922\n",
            "F1 Score: 0.8584667471675439\n",
            "\n",
            "Para {'Rock': 1, 'Hip-Hop':4}\n",
            "Acurácia: 0.9208882720333103\n",
            "F1 Score: 0.8650341124198129\n",
            "\n"
          ]
        }
      ]
    },
    {
      "cell_type": "markdown",
      "source": [
        "Vamos testar vários valores entre 2 e 8 para a classe Hip-Hop, e vamos manter o peso 1  para a classe Rock."
      ],
      "metadata": {
        "id": "phHIBAvDhHeD"
      }
    },
    {
      "cell_type": "code",
      "source": [
        "weights1 = []\n",
        "weights2 = []\n",
        "accuracies = []\n",
        "fscores = []\n",
        "\n",
        "for w1 in np.linspace(1, 1.5 , 5, endpoint=True):\n",
        "  for w2 in np.linspace(2, 8, 100, endpoint=True):\n",
        "    accuracy, fscore = try_class_weight({'Rock': w1, 'Hip-Hop': w2})\n",
        "    weights1.append(w1)\n",
        "    weights2.append(w2)\n",
        "    accuracies.append(accuracy)\n",
        "    fscores.append(fscore)"
      ],
      "metadata": {
        "id": "aw_-nbclgokZ"
      },
      "execution_count": null,
      "outputs": []
    },
    {
      "cell_type": "code",
      "source": [
        "print(f\"Melhor Acurácia: {max(accuracies)}\")\n",
        "print(f\"Melhor F1 Score: {fscores[accuracies.index(max(accuracies))]}\")\n",
        "print(f\"Peso para Rock para melhor acurácia: {weights1[accuracies.index(max(accuracies))]}\")\n",
        "print(f\"Peso para Hip-Hop para melhor acurácia: {weights2[accuracies.index(max(accuracies))]}\")"
      ],
      "metadata": {
        "colab": {
          "base_uri": "https://localhost:8080/"
        },
        "id": "8QtElXmdieM-",
        "outputId": "fcf820d9-f80c-4eb8-b6d0-5f1ca0d43ca5"
      },
      "execution_count": null,
      "outputs": [
        {
          "output_type": "stream",
          "name": "stdout",
          "text": [
            "Melhor Acurácia: 0.9257460097154754\n",
            "Melhor F1 Score: 0.8731281324647391\n",
            "Peso para Rock para melhor acurácia: 1.375\n",
            "Peso para Hip-Hop para melhor acurácia: 5.818181818181818\n"
          ]
        }
      ]
    },
    {
      "cell_type": "markdown",
      "source": [
        "Mesmo testando vários pesos diferentes, podemos observar que o modelo não obteve uma melhora extremamente significativa com relação à acurácia do primeiro modelo, sem balanceamento, ou ainda com relação aos outros modelos que foram testados com valores específicos (\"balanced\", None, \"balanced_subsample\", e { \"Rock\" :  1, \"Hip-Hop\" : 4 })."
      ],
      "metadata": {
        "id": "d_m50PEkkOzC"
      }
    },
    {
      "cell_type": "markdown",
      "source": [
        "# 8. Testando Diversos Outros Tipos de Algoritmos"
      ],
      "metadata": {
        "id": "z6tXMX32kOQ9"
      }
    },
    {
      "cell_type": "markdown",
      "source": [
        "Agora, vamos testar outros tipos de modelos de machine learning para poder fazer uma comparação da eficiência destes diferentes tipos de modelo com o nosso modelo já estabelecido e testado."
      ],
      "metadata": {
        "id": "ODzf7IWAada-"
      }
    },
    {
      "cell_type": "code",
      "source": [
        "# Importando os modelos\n",
        "from sklearn.metrics import accuracy_score, log_loss\n",
        "from sklearn.neighbors import KNeighborsClassifier\n",
        "from sklearn.svm import SVC, LinearSVC, NuSVC\n",
        "from sklearn.tree import DecisionTreeClassifier\n",
        "from sklearn.ensemble import (\n",
        "RandomForestClassifier,\n",
        "AdaBoostClassifier,\n",
        "GradientBoostingClassifier,\n",
        ")\n",
        "from sklearn.discriminant_analysis import LinearDiscriminantAnalysis\n",
        "from sklearn.discriminant_analysis import QuadraticDiscriminantAnalysis\n",
        "from sklearn.linear_model import LogisticRegression\n",
        "\n",
        "# Criando uma lista com todos os modelos importados\n",
        "classifiers = [KNeighborsClassifier(3), SVC(kernel=\"rbf\", C=0.025, probability=True), SVC(), LogisticRegression(), DecisionTreeClassifier(), RandomForestClassifier(), AdaBoostClassifier(), GradientBoostingClassifier()]\n",
        "\n",
        "# Criando um loop para testar todos os modelos\n",
        "for classifier in classifiers:\n",
        "  pipe = Pipeline(steps=[(\"preprocessor\", preprocessor), (\"classifier\", classifier)])\n",
        "  pipe.fit(X_train, y_train)\n",
        "  print(classifier)\n",
        "  print(f\"Pontuação do modelo: {pipe.score(X_test, y_test):.4f}\")\n",
        "  print()"
      ],
      "metadata": {
        "colab": {
          "base_uri": "https://localhost:8080/"
        },
        "id": "Aw_4AUiCkMBO",
        "outputId": "71664176-fa2c-4003-c5d2-63ec9fbd0849"
      },
      "execution_count": null,
      "outputs": [
        {
          "output_type": "stream",
          "name": "stdout",
          "text": [
            "KNeighborsClassifier(n_neighbors=3)\n",
            "Pontuação do modelo: 0.8952\n",
            "\n",
            "SVC(C=0.025, probability=True)\n",
            "Pontuação do modelo: 0.8626\n",
            "\n",
            "SVC()\n",
            "Pontuação do modelo: 0.9119\n",
            "\n",
            "LogisticRegression()\n",
            "Pontuação do modelo: 0.8883\n",
            "\n",
            "DecisionTreeClassifier()\n",
            "Pontuação do modelo: 0.8744\n",
            "\n",
            "RandomForestClassifier()\n",
            "Pontuação do modelo: 0.9237\n",
            "\n",
            "AdaBoostClassifier()\n",
            "Pontuação do modelo: 0.9126\n",
            "\n",
            "GradientBoostingClassifier()\n",
            "Pontuação do modelo: 0.9174\n",
            "\n"
          ]
        }
      ]
    },
    {
      "cell_type": "markdown",
      "source": [
        "Veja que, dentre todos os modelos testados, aquele que obteve melhor desempenho foi o RandomForestClassifier, que é justamente o modelo que já estamos utilizando."
      ],
      "metadata": {
        "id": "_VG9ThvbF3Dj"
      }
    },
    {
      "cell_type": "markdown",
      "source": [
        "# 9. Considerações Finais"
      ],
      "metadata": {
        "id": "I5ai29wSmL9f"
      }
    },
    {
      "cell_type": "markdown",
      "source": [
        "Com o teste de diferentes modelos acima, podemos perceber que o algoritmo de RandomForestClassifier perfomou de maneira superior a todos os outros. É claro que os algoritmos testados por último não tiveram seus hiperparâmetros ajustados, mas, como conseguimos uma acurácia de aproximandamente 93% e um f1 score de aproximadamente 87%, podemos concluir que nosso modelo de classificação musical para Hip-Hop e Rock é satisfatório.\n",
        "\n",
        "\n",
        "Contudo, ainda que nosso modelo tenha alcançado uma performance relativamente boa, acredita-se ser possível melhorá-lo por meio de mais testes de hiperparâmetros e por meio da seleção de features. "
      ],
      "metadata": {
        "id": "AqCRnNSAlkul"
      }
    }
  ]
}